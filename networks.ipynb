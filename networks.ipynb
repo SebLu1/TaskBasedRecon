{
 "cells": [
  {
   "cell_type": "code",
   "execution_count": 1,
   "metadata": {
    "collapsed": true
   },
   "outputs": [
    {
     "ename": "SyntaxError",
     "evalue": "invalid syntax (<ipython-input-1-3235cb5b9ef2>, line 1)",
     "traceback": [
      "\u001b[0;36m  File \u001b[0;32m\"<ipython-input-1-3235cb5b9ef2>\"\u001b[0;36m, line \u001b[0;32m1\u001b[0m\n\u001b[0;31m    mport tensorflow as tf\u001b[0m\n\u001b[0m                   ^\u001b[0m\n\u001b[0;31mSyntaxError\u001b[0m\u001b[0;31m:\u001b[0m invalid syntax\n"
     ],
     "output_type": "error"
    }
   ],
   "source": [
    "import tensorflow as tf\n",
    "from Networks import UNet_segmentation\n",
    "sess = tf.InteractiveSession()\n",
    "\n",
    "net = UNet_segmentation(size = (64,64), colors=1)\n",
    "\n",
    "input_image = tf.placeholder(shape=(None, 512, 512, 1), dtype=tf.float32)\n",
    "input_seg = tf.placeholder(shape=(None, 512, 512, 1), dtype=tf.float32)\n",
    "\n",
    "output_seg = net.net(input_image)\n",
    "\n",
    "\n",
    "loss1 = - tf.reduce_mean(tf.multiply(tf.log(output_seg), input_seg))\n",
    "loss2 = - tf.reduce_mean(tf.multiply(tf.log(1-output_seg), 1-input_seg))\n",
    "loss  = 100*loss1 + loss2"
   ]
  },
  {
   "cell_type": "code",
   "execution_count": null,
   "metadata": {},
   "outputs": [],
   "source": []
  }
 ],
 "metadata": {
  "kernelspec": {
   "display_name": "Python 2",
   "language": "python",
   "name": "python2"
  },
  "language_info": {
   "codemirror_mode": {
    "name": "ipython",
    "version": 2
   },
   "file_extension": ".py",
   "mimetype": "text/x-python",
   "name": "python",
   "nbconvert_exporter": "python",
   "pygments_lexer": "ipython2",
   "version": "2.7.6"
  }
 },
 "nbformat": 4,
 "nbformat_minor": 0
}
