{
 "cells": [
  {
   "cell_type": "code",
   "execution_count": 1,
   "metadata": {
    "collapsed": true
   },
   "outputs": [],
   "source": [
    "import tensorflow as tf\n",
    "%matplotlib inline\n",
    "\n",
    "import numpy as np\n",
    "import matplotlib\n",
    "import matplotlib.pyplot as plt\n",
    "\n",
    "from Framework import generic_framework\n",
    "\n",
    "gf = generic_framework()"
   ]
  },
  {
   "cell_type": "code",
   "execution_count": 3,
   "metadata": {},
   "outputs": [],
   "source": [
    "y, x_true, fbp, ul_nod, ul_rand = gf.generate_training_data(batch_size=1, noise_level=0)"
   ]
  },
  {
   "cell_type": "code",
   "execution_count": 50,
   "metadata": {},
   "outputs": [
    {
     "name": "stdout",
     "output_type": "stream",
     "text": [
      "(1, ?, ?, 1)\n(2, ?, ?, 1)\n(3, ?, ?, 1)\n(4, ?, ?, 1)\n(5, ?, ?, 1)\n(6, ?, ?, 1)\n(7, ?, ?, 1)\n(8, ?, ?, 1)\n(9, ?, ?, 1)\n"
     ]
    },
    {
     "name": "stdout",
     "output_type": "stream",
     "text": [
      "(10, ?, ?, 1)\n"
     ]
    }
   ],
   "source": [
    "import tensorflow as tf\n",
    "\n",
    "batch_size = 10\n",
    "\n",
    "segmentation = tf.placeholder(shape=[batch_size, 512, 512, 1],dtype=tf.float32)\n",
    "ul_nod = tf.placeholder(shape=[batch_size, 2], dtype=tf.int32)\n",
    "ul_ran = tf.placeholder(shape=[batch_size, 2], dtype=tf.int32)\n",
    "test = tf.placeholder(dtype=tf.int32)\n",
    "\n",
    "# seg_nod = tf.expand_dims(tf.expand_dims(segmentation[0,ul_nod[0,0]:ul_nod[0,0]+64,ul_nod[0,1]:ul_nod[0,1]+64,0], axis=0), axis=3)\n",
    "# print(seg_nod.shape)\n",
    "# for k in range(1, batch_size):\n",
    "#     new_slice = tf.expand_dims(tf.expand_dims(segmentation[0,ul_nod[k,0]:ul_nod[k,0]+64,ul_nod[k,1]:ul_nod[k,1]+64,0], axis=0), axis=3)\n",
    "#     seg_nod = tf.concat([seg_nod, new_slice], axis=0)\n",
    "#     print(seg_nod.shape)\n",
    "    \n",
    "seg_nod = extract_tensor(segmentation, ul_nod, batch_size=10)"
   ]
  },
  {
   "cell_type": "code",
   "execution_count": 49,
   "metadata": {},
   "outputs": [],
   "source": [
    "def extract_tensor(tensor, ul, batch_size, size = (64,64)):\n",
    "    extract = tf.expand_dims(tf.expand_dims(tensor[0,ul[0,0]:ul[0,0]+size[0],ul[0,1]:ul[0,1]+size[1],0], axis=0), axis=3)\n",
    "    print(extract.shape)\n",
    "    for k in range(1, batch_size):\n",
    "        new_slice = tf.expand_dims(tf.expand_dims(tensor[0,ul[k,0]:ul[k,0]+size[0],ul[k,1]:ul[k,1]+size[1],0], axis=0), axis=3)\n",
    "        extract = tf.concat([extract, new_slice], axis=0)\n",
    "        print(extract.shape)\n",
    "    return extract"
   ]
  },
  {
   "cell_type": "code",
   "execution_count": 9,
   "metadata": {},
   "outputs": [
    {
     "name": "stdout",
     "output_type": "stream",
     "text": [
      "0.596405\n0.492226\n0.0213586\n0.793011\n"
     ]
    }
   ],
   "source": [
    ""
   ]
  },
  {
   "cell_type": "code",
   "execution_count": null,
   "metadata": {},
   "outputs": [],
   "source": []
  }
 ],
 "metadata": {
  "kernelspec": {
   "display_name": "Python 2",
   "language": "python",
   "name": "python2"
  },
  "language_info": {
   "codemirror_mode": {
    "name": "ipython",
    "version": 2
   },
   "file_extension": ".py",
   "mimetype": "text/x-python",
   "name": "python",
   "nbconvert_exporter": "python",
   "pygments_lexer": "ipython2",
   "version": "2.7.6"
  }
 },
 "nbformat": 4,
 "nbformat_minor": 0
}
