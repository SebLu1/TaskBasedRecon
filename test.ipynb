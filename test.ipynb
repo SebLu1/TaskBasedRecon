{
 "cells": [
  {
   "cell_type": "code",
   "execution_count": 4,
   "metadata": {
    "collapsed": false
   },
   "outputs": [
    {
     "name": "stdout",
     "output_type": "stream",
     "text": [
      "Training Data found: 1203\nEvaluation Data found: 1203\nXML Training Data found: 14\nXML Evaluation Data found: 14\n"
     ]
    }
   ],
   "source": [
    "from DataProcessing import LUNA\n",
    "%matplotlib inline\n",
    "\n",
    "import dicom as dc\n",
    "import numpy as np\n",
    "import matplotlib\n",
    "import matplotlib.pyplot as plt\n",
    "import glob\n",
    "import pandas as pd\n",
    "import xml\n",
    "from xml.etree import ElementTree\n",
    "from shapely.geometry import Polygon\n",
    "from shapely.geometry import Point\n",
    "\n",
    "luna = LUNA()"
   ]
  },
  {
   "cell_type": "code",
   "execution_count": 48,
   "metadata": {
    "collapsed": false
   },
   "outputs": [
    {
     "name": "stdout",
     "output_type": "stream",
     "text": [
      "Ids match!\n"
     ]
    }
   ],
   "source": [
    "from random import randint\n",
    "import util as ut\n",
    "j = 0\n",
    "path = ''\n",
    "xml_path = ''\n",
    "path_list = []\n",
    "z_position = 0\n",
    "annotations = np.zeros(shape=(512,512))\n",
    "nodules = np.zeros(shape=(512,512))\n",
    "while j<1000:\n",
    "    xml_path = luna.xml_training_list[randint(0, luna.xml_training_list_length-1)]\n",
    "    if luna.valid_xml(xml_path):\n",
    "        f = ElementTree.parse(xml_path).getroot()\n",
    "        docs = f.findall('{http://www.nih.gov}readingSession')\n",
    "        nodules = docs[randint(0, len(docs)-1)].findall('{http://www.nih.gov}unblindedReadNodule')\n",
    "        nod = nodules[randint(0,len(nodules)-1)]\n",
    "        slices= nod.findall('{http://www.nih.gov}roi')\n",
    "        slice = slices[randint(0,len(slices)-1)]\n",
    "        z_position = float(slice[0].text)\n",
    "        id = slice[1].text\n",
    "        if len(slice.findall('{http://www.nih.gov}edgeMap')) > 10:\n",
    "            # read out annotation map of chosen nodule\n",
    "            annotations = np.zeros(shape=(512,512))\n",
    "            nodules = np.zeros(shape=(512,512))\n",
    "            vertices = []\n",
    "            for coord in slice.findall('{http://www.nih.gov}edgeMap'):\n",
    "                vertices.append((int(coord[0].text), int(coord[1].text)))\n",
    "                annotations[int(coord[0].text), int(coord[1].text)] = 1\n",
    "                nodules[int(coord[0].text), int(coord[1].text)] = 1\n",
    "            try:\n",
    "                poly = Polygon(vertices)\n",
    "                bnd = poly.bounds\n",
    "                for x in range(int(bnd[0]), int(bnd[2] + 1)):\n",
    "                    for y in range(int(bnd[1]), int(bnd[3] + 1)):\n",
    "                        point = Point(x, y)\n",
    "                        if point.within(poly):\n",
    "                            nodules[x, y] = 1\n",
    "                j = 1000\n",
    "            except ValueError:\n",
    "                nodules = annotations\n",
    "                print('Polygone filling failed. Draw new nodule')\n",
    "    j = j+1\n",
    "    \n",
    "k = -1\n",
    "while (not xml_path[k] == '/') and k > -1000:\n",
    "    k = k - 1\n",
    "last_number = len(xml_path) + k\n",
    "cut_path = xml_path[0:last_number]\n",
    "path_list = ut.find('*dcm', cut_path)\n",
    "\n",
    "### find image in path_list that fits the z position and id of the chosen nodule\n",
    "for im_path in path_list:\n",
    "    dc_file = dc.read_file(im_path)\n",
    "    image_z = (dc_file[0x0020, 0x0032].value)[2]\n",
    "    image_id = dc_file[0x0008, 0x0018].value\n",
    "    if image_z == z_position:\n",
    "        path = im_path\n",
    "        assert image_id == id\n",
    "\n",
    "dc_file = dc.read_file(path)\n",
    "pic = dc_file.pixel_array\n",
    "pic = pic - np.amin(pic)\n",
    "pic = pic / np.amax(pic)"
   ]
  },
  {
   "cell_type": "code",
   "execution_count": 49,
   "metadata": {},
   "outputs": [
    {
     "name": "stdout",
     "output_type": "stream",
     "text": [
      "[(392, 338), (393, 337), (394, 336), (395, 335), (396, 334), (396, 333), (396, 332), (396, 331), (395, 330), (394, 329), (393, 328), (392, 328), (391, 328), (390, 329), (389, 330), (389, 331), (389, 332), (388, 333), (387, 334), (387, 335), (387, 336), (388, 337), (389, 338), (390, 338), (391, 338), (392, 338)]\n0.0\n0.0\n9.53674316406e-05\n0.000293731689453\n"
     ]
    }
   ],
   "source": [
    "print(vertices)\n",
    "print(annotations[141,319])\n",
    "print(nodules[141,319])\n",
    "print(np.average(annotations))\n",
    "print(np.average(nodules))"
   ]
  },
  {
   "cell_type": "code",
   "execution_count": 8,
   "metadata": {},
   "outputs": [
    {
     "data": {
      "image/png": "[encoded data removed]",
      "text/plain": [
       "<matplotlib.figure.Figure at 0x1598c84c710>"
      ]
     },
     "metadata": {},
     "output_type": "display_data"
    }
   ],
   "source": [
    "#path, xml_path = luna.get_random_path(training_data=True)\n",
    "# pic, anno, nod = luna.get_raw_data(path, xml_path)\n",
    "pic, nodules, anno = luna.load_nodule()\n",
    "\n",
    "size = pic.shape\n",
    "three_c = np.zeros(shape=[size[0], size[1], 3])\n",
    "for k in range(3):\n",
    "    three_c[...,k] = pic\n",
    "    \n",
    "# set red chanel to 1 whenever in nodules and set all other channels to 0\n",
    "for x in range(size[0]):\n",
    "    for y in range(size[1]):\n",
    "        if nodules[x,y]==1:\n",
    "            three_c[x,y,0] = 1\n",
    "            three_c[x,y,1] = 0\n",
    "            three_c[x,y,2] = 0\n",
    "    \n",
    "plt.figure()\n",
    "plt.subplot(131)\n",
    "plt.imshow(three_c)\n",
    "plt.subplot(132)\n",
    "plt.imshow(anno)\n",
    "plt.subplot(133)\n",
    "plt.imshow(nodules)\n",
    "plt.show()"
   ]
  },
  {
   "cell_type": "code",
   "execution_count": 1,
   "metadata": {},
   "outputs": [],
   "source": [
    "import tensorflow as tf\n",
    "from Networks import UNet_segmentation\n",
    "sess = tf.InteractiveSession()\n",
    "\n",
    "net = UNet_segmentation( size = (512,512), colors=1)\n",
    "\n",
    "input_image = tf.placeholder(shape=(None, 512, 512, 1), dtype=tf.float32)\n",
    "input_seg = tf.placeholder(shape=(None, 512, 512, 1), dtype=tf.float32)\n",
    "\n",
    "output_seg = net.net(input_image)"
   ]
  },
  {
   "cell_type": "code",
   "execution_count": 2,
   "metadata": {},
   "outputs": [],
   "source": [
    "loss1 = - tf.reduce_mean(tf.multiply(tf.log(output_seg), input_seg))\n",
    "loss2 = - tf.reduce_mean(tf.multiply(tf.log(1-output_seg), 1-input_seg))\n",
    "loss  = 100*loss1 + loss2"
   ]
  }
 ],
 "metadata": {
  "kernelspec": {
   "display_name": "Python 2",
   "language": "python",
   "name": "python2"
  },
  "language_info": {
   "codemirror_mode": {
    "name": "ipython",
    "version": 2.0
   },
   "file_extension": ".py",
   "mimetype": "text/x-python",
   "name": "python",
   "nbconvert_exporter": "python",
   "pygments_lexer": "ipython2",
   "version": "2.7.6"
  }
 },
 "nbformat": 4,
 "nbformat_minor": 0
}