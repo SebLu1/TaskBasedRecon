{
 "cells": [
  {
   "cell_type": "code",
   "execution_count": 1,
   "metadata": {
    "collapsed": false
   },
   "outputs": [
    {
     "name": "stdout",
     "output_type": "stream",
     "text": [
      "Training Data found: 1595\nEvaluation Data found: 1595\nXML Training Data found: 18\nXML Evaluation Data found: 18\n"
     ]
    }
   ],
   "source": [
    "from DataProcessing import LUNA\n",
    "%matplotlib inline\n",
    "\n",
    "import pydicom as dc\n",
    "import numpy as np\n",
    "import matplotlib\n",
    "import matplotlib.pyplot as plt\n",
    "import glob\n",
    "import pandas as pd\n",
    "import xml\n",
    "from xml.etree import ElementTree\n",
    "from shapely.geometry import Polygon\n",
    "from shapely.geometry import Point\n",
    "\n",
    "luna = LUNA()"
   ]
  },
  {
   "cell_type": "code",
   "execution_count": 170,
   "metadata": {
    "collapsed": false
   },
   "outputs": [
    {
     "name": "stdout",
     "output_type": "stream",
     "text": [
      "1\n1001\n(267, 274, 365, 373)\n"
     ]
    },
    {
     "name": "stdout",
     "output_type": "stream",
     "text": [
      "4047\n-1024\n1.0\n0.0\n"
     ]
    }
   ],
   "source": [
    "from random import randint\n",
    "import util as ut\n",
    "j = 0\n",
    "path = ''\n",
    "xml_path = ''\n",
    "path_list = []\n",
    "z_position = 0\n",
    "annotations = np.zeros(shape=(512,512))\n",
    "nodules = np.zeros(shape=(512,512))\n",
    "while j<1000:\n",
    "    xml_path = luna.xml_training_list[randint(0, luna.xml_training_list_length-1)]\n",
    "    if luna.valid_xml(xml_path):\n",
    "        f = ElementTree.parse(xml_path).getroot()\n",
    "        \n",
    "\n",
    "        docs = f.findall('{http://www.nih.gov}readingSession')\n",
    "        nodules = docs[randint(0, len(docs)-1)].findall('{http://www.nih.gov}unblindedReadNodule')\n",
    "        nod = nodules[randint(0,len(nodules)-1)]\n",
    "        slices= nod.findall('{http://www.nih.gov}roi')\n",
    "        slice = slices[randint(0,len(slices)-1)]\n",
    "        z_position = float(slice[0].text)\n",
    "        id = slice[1].text\n",
    "        if len(slice.findall('{http://www.nih.gov}edgeMap')) > 10:\n",
    "            # read out annotation map of chosen nodule\n",
    "            annotations = np.zeros(shape=(512,512))\n",
    "            nodules = np.zeros(shape=(512,512))\n",
    "            vertices = []\n",
    "            for coord in slice.findall('{http://www.nih.gov}edgeMap'):\n",
    "                #print((int(coord[1].text), int(coord[0].text)))\n",
    "                vertices.append((int(coord[1].text), int(coord[0].text)))                \n",
    "                annotations[int(coord[1].text), int(coord[0].text)] = 1\n",
    "                nodules[int(coord[1].text), int(coord[0].text)] = 1\n",
    "            try:\n",
    "                poly = Polygon(vertices)\n",
    "                bnd = poly.bounds\n",
    "                for x in range(int(bnd[0]), int(bnd[2] + 1)):\n",
    "                    for y in range(int(bnd[1]), int(bnd[3] + 1)):\n",
    "                        point = Point(x, y)\n",
    "                        if point.within(poly):\n",
    "                            nodules[x, y] = 1\n",
    "                j = 1000\n",
    "                \n",
    "            except ValueError:\n",
    "                nodules = annotations\n",
    "                print('Polygone filling failed. Draw new nodule')\n",
    "    j = j+1\n",
    "    print(j)\n",
    "    \n",
    "k = -1\n",
    "while (not xml_path[k] == '/') and k > -1000:\n",
    "    k = k - 1\n",
    "last_number = len(xml_path) + k\n",
    "cut_path = xml_path[0:last_number]\n",
    "path_list = ut.find('*dcm', cut_path)\n",
    "\n",
    "### find the centre of the nodule\n",
    "x_min = 512\n",
    "x_max = 0\n",
    "y_min = 512\n",
    "y_max = 0\n",
    "for coord in vertices:\n",
    "    if coord[0] < x_min:\n",
    "        x_min = coord[0]\n",
    "    if coord[0] > x_max:\n",
    "        x_max = coord[0]\n",
    "    if coord[1] < y_min:\n",
    "        y_min = coord[1]\n",
    "    if coord[1] > y_max:\n",
    "        y_max = coord[1]\n",
    "x_cen = int((x_min + x_max) / 2)\n",
    "y_cen = int((y_min + y_max) / 2)\n",
    "\n",
    "print((x_min, x_max, y_min, y_max))\n",
    "\n",
    "### find image in path_list that fits the z position and id of the chosen nodule\n",
    "for im_path in path_list:\n",
    "    dc_file = dc.read_file(im_path)\n",
    "    image_z = (dc_file[0x0020, 0x0032].value)[2]\n",
    "    image_id = dc_file[0x0008, 0x0018].value\n",
    "    if image_z == z_position:\n",
    "        path = im_path\n",
    "        assert image_id == id\n",
    "\n",
    "dc_file = dc.read_file(path)\n",
    "\n",
    "pic = dc_file.pixel_array\n",
    "print(np.max(pic))\n",
    "print(np.min(pic))\n",
    "\n",
    "def normalize(image):\n",
    "    MIN_BOUND = -1000.0\n",
    "    MAX_BOUND = 800.0\n",
    "    image = (image - MIN_BOUND) / (MAX_BOUND - MIN_BOUND)\n",
    "    image[image > 1] = 1.\n",
    "    image[image < 0] = 0.\n",
    "    return image\n",
    "pic =normalize(pic)\n",
    "\n",
    "print(np.max(pic))\n",
    "print(np.min(pic))\n",
    "\n"
   ]
  },
  {
   "cell_type": "code",
   "execution_count": 171,
   "metadata": {
    "collapsed": false
   },
   "outputs": [
    {
     "data": {
      "image/png": "[encoded data removed]",
      "text/plain": [
       "<Figure size 432x288 with 4 Axes>"
      ]
     },
     "metadata": {},
     "output_type": "display_data"
    }
   ],
   "source": [
    "size = pic.shape\n",
    "three_c = np.zeros(shape=[size[0], size[1], 3])\n",
    "for k in range(3):\n",
    "    three_c[...,k] = pic\n",
    "    \n",
    "# set red chanel to 1 whenever in nodules and set all other channels to 0\n",
    "for x in range(size[0]):\n",
    "    for y in range(size[1]):\n",
    "        if nodules[x,y]==1:\n",
    "            three_c[x,y,0] = 1\n",
    "            three_c[x,y,1] = 0\n",
    "            three_c[x,y,2] = 0\n",
    "            \n",
    "three_c_m = np.zeros(shape=[size[0], size[1], 3])\n",
    "for k in range(3):\n",
    "    three_c_m[...,k] = pic\n",
    "\n",
    "   \n",
    "\n",
    "    \n",
    "plt.figure()\n",
    "plt.subplot(141)\n",
    "plt.imshow(pic)\n",
    "plt.subplot(142)\n",
    "plt.imshow(three_c)\n",
    "plt.subplot(143)\n",
    "plt.imshow(annotations)\n",
    "plt.subplot(144)\n",
    "plt.imshow(nodules)\n",
    "plt.show()"
   ]
  },
  {
   "cell_type": "code",
   "execution_count": 2,
   "metadata": {},
   "outputs": [
    {
     "name": "stdout",
     "output_type": "stream",
     "text": [
      "Training Data found: 1595\nEvaluation Data found: 1595\nXML Training Data found: 18\nXML Evaluation Data found: 18\n"
     ]
    }
   ],
   "source": [
    "from DataProcessing import LUNA\n",
    "from DataProcessing import LUNA\n",
    "%matplotlib inline\n",
    "\n",
    "import pydicom as dc\n",
    "import numpy as np\n",
    "import matplotlib\n",
    "import matplotlib.pyplot as plt\n",
    "import glob\n",
    "import pandas as pd\n",
    "import xml\n",
    "from xml.etree import ElementTree\n",
    "from shapely.geometry import Polygon\n",
    "from shapely.geometry import Point\n",
    "from random import randint\n",
    "import util as ut\n",
    "\n",
    "luna = LUNA()\n"
   ]
  },
  {
   "cell_type": "code",
   "execution_count": 11,
   "metadata": {},
   "outputs": [
    {
     "name": "stdout",
     "output_type": "stream",
     "text": [
      "1\n2\n3\n4\n5\n6\n7\n8\n1001\n(320, 326, 139, 145)\n"
     ]
    }
   ],
   "source": [
    "pic_cut, nod_cut, pic_rand, nod_rand = luna.load_data()"
   ]
  },
  {
   "cell_type": "code",
   "execution_count": 8,
   "metadata": {},
   "outputs": [
    {
     "data": {
      "image/png": "[encoded data removed]",
      "text/plain": [
       "<Figure size 432x288 with 4 Axes>"
      ]
     },
     "metadata": {},
     "output_type": "display_data"
    }
   ],
   "source": [
    "plt.figure()\n",
    "plt.subplot(141)\n",
    "plt.imshow(pics[0,...,0])\n",
    "plt.subplot(142)\n",
    "plt.imshow(annos[0,...,0])\n",
    "plt.subplot(143)\n",
    "plt.imshow(pics[61,...,0])\n",
    "plt.subplot(144)\n",
    "plt.imshow(annos[61,...,0])\n",
    "plt.show()\n"
   ]
  },
  {
   "cell_type": "code",
   "execution_count": 2,
   "metadata": {},
   "outputs": [
    {
     "name": "stdout",
     "output_type": "stream",
     "text": [
      "1\n2\n3\n1001\n"
     ]
    },
    {
     "name": "stdout",
     "output_type": "stream",
     "text": [
      "(211, 227, 212, 229)\n1\n2\n3\n4\n5\n6\n7\n"
     ]
    },
    {
     "name": "stdout",
     "output_type": "stream",
     "text": [
      "8\n1001\n"
     ]
    },
    {
     "name": "stdout",
     "output_type": "stream",
     "text": [
      "(266, 274, 363, 374)\n1001\n"
     ]
    },
    {
     "name": "stdout",
     "output_type": "stream",
     "text": [
      "(215, 226, 217, 228)\n1001\n"
     ]
    },
    {
     "name": "stdout",
     "output_type": "stream",
     "text": [
      "(354, 386, 299, 330)\n1\n2\n3\n"
     ]
    },
    {
     "name": "stdout",
     "output_type": "stream",
     "text": [
      "1001\n"
     ]
    },
    {
     "name": "stdout",
     "output_type": "stream",
     "text": [
      "(281, 309, 178, 208)\n1\n2\n3\n1001\n"
     ]
    },
    {
     "name": "stdout",
     "output_type": "stream",
     "text": [
      "(285, 293, 118, 127)\n1\n2\n1001\n"
     ]
    },
    {
     "name": "stdout",
     "output_type": "stream",
     "text": [
      "(320, 327, 139, 144)\n1001\n"
     ]
    },
    {
     "name": "stdout",
     "output_type": "stream",
     "text": [
      "(351, 386, 302, 332)\n1001\n"
     ]
    },
    {
     "name": "stdout",
     "output_type": "stream",
     "text": [
      "(270, 294, 180, 207)\n1\n1001\n"
     ]
    },
    {
     "name": "stdout",
     "output_type": "stream",
     "text": [
      "(348, 386, 299, 335)\n1\n1001\n"
     ]
    },
    {
     "name": "stdout",
     "output_type": "stream",
     "text": [
      "(255, 268, 287, 304)\n1001\n"
     ]
    },
    {
     "name": "stdout",
     "output_type": "stream",
     "text": [
      "(354, 386, 299, 330)\n1\n2\n1001\n"
     ]
    },
    {
     "name": "stdout",
     "output_type": "stream",
     "text": [
      "(319, 324, 140, 144)\n1\n2\n3\n4\n1001\n"
     ]
    },
    {
     "name": "stdout",
     "output_type": "stream",
     "text": [
      "(346, 384, 299, 334)\n1\n2\n3\n4\n5\n6\n1001\n"
     ]
    },
    {
     "name": "stdout",
     "output_type": "stream",
     "text": [
      "(335, 366, 352, 382)\n1\n2\n3\n4\n1001\n"
     ]
    },
    {
     "name": "stdout",
     "output_type": "stream",
     "text": [
      "(193, 203, 301, 311)\n1\n2\n3\n4\n5\n6\n7\n8\n9\n10\n11\n12\n13\n14\n15\n1001\n"
     ]
    },
    {
     "name": "stdout",
     "output_type": "stream",
     "text": [
      "(195, 202, 302, 310)\n1\n2\n1001\n"
     ]
    },
    {
     "name": "stdout",
     "output_type": "stream",
     "text": [
      "(335, 366, 352, 382)\n1\n2\n"
     ]
    },
    {
     "name": "stdout",
     "output_type": "stream",
     "text": [
      "1001\n"
     ]
    },
    {
     "name": "stdout",
     "output_type": "stream",
     "text": [
      "(279, 314, 179, 214)\n1\n2\n3\n4\n5\n6\n1001\n"
     ]
    },
    {
     "name": "stdout",
     "output_type": "stream",
     "text": [
      "(279, 312, 179, 213)\n1\n2\n3\n4\n5\n6\n7\n1001\n"
     ]
    },
    {
     "name": "stdout",
     "output_type": "stream",
     "text": [
      "(394, 401, 123, 131)\n1\n2\n3\n4\n5\n6\n7\n8\n9\n10\n11\n12\n13\n14\n"
     ]
    },
    {
     "name": "stdout",
     "output_type": "stream",
     "text": [
      "1001\n"
     ]
    },
    {
     "name": "stdout",
     "output_type": "stream",
     "text": [
      "(280, 288, 188, 209)\n1001\n"
     ]
    },
    {
     "name": "stdout",
     "output_type": "stream",
     "text": [
      "(265, 275, 364, 373)\n1\n2\n3\n4\n5\n6\n1001\n"
     ]
    },
    {
     "name": "stdout",
     "output_type": "stream",
     "text": [
      "(280, 312, 178, 211)\n1\n1001\n"
     ]
    },
    {
     "name": "stdout",
     "output_type": "stream",
     "text": [
      "(285, 293, 118, 127)\n1\n2\n3\n4\n1001\n"
     ]
    },
    {
     "name": "stdout",
     "output_type": "stream",
     "text": [
      "(338, 363, 360, 381)\n1\n2\n3\n"
     ]
    },
    {
     "name": "stdout",
     "output_type": "stream",
     "text": [
      "1001\n"
     ]
    },
    {
     "name": "stdout",
     "output_type": "stream",
     "text": [
      "(279, 314, 178, 215)\n1\n2\n1001\n"
     ]
    },
    {
     "name": "stdout",
     "output_type": "stream",
     "text": [
      "(351, 361, 363, 378)\n1\n2\n3\n4\n5\n6\n7\n8\n9\n10\n11\n12\n13\n14\n15\n16\n17\n1001\n"
     ]
    },
    {
     "name": "stdout",
     "output_type": "stream",
     "text": [
      "(273, 290, 184, 210)\n1\n2\n3\n1001\n"
     ]
    },
    {
     "name": "stdout",
     "output_type": "stream",
     "text": [
      "(276, 300, 179, 211)\n1\n2\n3\n4\n1001\n"
     ]
    },
    {
     "name": "stdout",
     "output_type": "stream",
     "text": [
      "(373, 381, 402, 410)\n1\n2\n3\n4\n1001\n"
     ]
    },
    {
     "name": "stdout",
     "output_type": "stream",
     "text": [
      "(344, 374, 328, 364)\n"
     ]
    }
   ],
   "source": [
    "# method to generate training data given the current model type\n",
    "def generate_segmentation_data(batch_size, training_data = True):\n",
    "    pics = np.zeros(shape=[batch_size*2, 64,64, 1])\n",
    "    annos = np.zeros(shape=[batch_size*2, 64, 64, 1])\n",
    "    for k in range(batch_size):\n",
    "        pic, vertices, nodules = luna.load_data(training_data= training_data)\n",
    "        pic_cut, nod_cut, pic_rand, nod_rand = luna.cut_data(pic, nodules, vertices)\n",
    "        \n",
    "        pics[k, ..., 0] = pic_cut\n",
    "        annos[k,... , 0] = nod_cut\n",
    "        \n",
    "        pics[k+batch_size,...,0] = pic_rand\n",
    "        annos[k+ batch_size,...,0] = nod_rand\n",
    "    return pics, annos\n",
    "        \n",
    "pics, annos = generate_segmentation_data(batch_size=32)"
   ]
  },
  {
   "cell_type": "code",
   "execution_count": 1,
   "metadata": {},
   "outputs": [],
   "source": [
    "def mean_var(list):\n",
    "    mean  = 0\n",
    "    n = float(len(list))\n",
    "\n",
    "    for j in list:\n",
    "        mean += j/n\n",
    "        \n",
    "    var = 0\n",
    "    for j in list:\n",
    "        var += ((j - mean)**2 )/n\n",
    "        \n",
    "    return mean, var\n"
   ]
  },
  {
   "cell_type": "code",
   "execution_count": 3,
   "metadata": {},
   "outputs": [
    {
     "data": {
      "text/plain": [
       "(2.0, 0.6666666666666666)"
      ]
     },
     "execution_count": 3,
     "metadata": {},
     "output_type": "execute_result"
    }
   ],
   "source": [
    "list = [1,2,3]\n",
    "mean_var(list)"
   ]
  },
  {
   "cell_type": "code",
   "execution_count": null,
   "metadata": {},
   "outputs": [],
   "source": [
    "for k in range(1,5):\n",
    "    print(k)"
   ]
  }
 ],
 "metadata": {
  "kernelspec": {
   "display_name": "Python 2",
   "language": "python",
   "name": "python2"
  },
  "language_info": {
   "codemirror_mode": {
    "name": "ipython",
    "version": 2
   },
   "file_extension": ".py",
   "mimetype": "text/x-python",
   "name": "python",
   "nbconvert_exporter": "python",
   "pygments_lexer": "ipython2",
   "version": "2.7.6"
  }
 },
 "nbformat": 4,
 "nbformat_minor": 0
}
